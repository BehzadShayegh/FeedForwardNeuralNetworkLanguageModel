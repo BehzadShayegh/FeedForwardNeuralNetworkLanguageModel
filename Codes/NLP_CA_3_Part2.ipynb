{
 "cells": [
  {
   "cell_type": "code",
   "execution_count": 0,
   "metadata": {
    "colab": {},
    "colab_type": "code",
    "id": "4rUlnxdY9Thr"
   },
   "outputs": [],
   "source": [
    "import json\n",
    "import numpy as np\n",
    "\n",
    "i_train_text = np.array(json.load(open('i_train.json')))\n",
    "i_test_text = np.array(json.load(open('i_test.json')))\n",
    "\n",
    "v = max(i_train_text.max(), i_test_text.max())"
   ]
  },
  {
   "cell_type": "code",
   "execution_count": 0,
   "metadata": {
    "colab": {},
    "colab_type": "code",
    "id": "bVxcSU5GhQRf"
   },
   "outputs": [],
   "source": [
    "from tqdm.notebook import tqdm\n",
    "import torch\n",
    "\n",
    "class translator :\n",
    "    def __init__(self, values, min_count) :\n",
    "      v = values.max()\n",
    "      count = [(i,(values==i).sum()) for i in tqdm(range(v))]\n",
    "      count = sorted(count, key=lambda x: x[1], reverse=True)\n",
    "      d = -1\n",
    "      while True :\n",
    "        d += 1\n",
    "        if count[d][1] < min_count :\n",
    "          break\n",
    "      self.dim = d+1\n",
    "      self.mapping = {count[i][0] : i for i in range(d)}\n",
    "\n",
    "    def one_hot(self, i) :\n",
    "      a = torch.zeros(self.dim)\n",
    "      a[i] = 1\n",
    "      return a\n",
    "\n",
    "    def __getitem__(self, i) :\n",
    "        if type(i)==type(1) :\n",
    "            return self.one_hot(self.mapping.get(i, self.dim-1))\n",
    "        elif type(i)==type(list()) :\n",
    "            return torch.cat(list(map(self.__getitem__, i)))\n",
    "        else :\n",
    "            return self.__getitem__(i.tolist())\n",
    "\n",
    "    def get_item(self, i) :\n",
    "        if type(i)==type(1) :\n",
    "            return self.mapping.get(i, self.dim-1)\n",
    "        elif type(i)==type(list()) :\n",
    "            return torch.tensor(list(map(self.get_item, i)))\n",
    "        else :\n",
    "            return self.get_item(i.tolist())"
   ]
  },
  {
   "cell_type": "code",
   "execution_count": 0,
   "metadata": {
    "colab": {
     "base_uri": "https://localhost:8080/",
     "height": 85,
     "referenced_widgets": [
      "795cf0b091ef46d6865d67f2547ebf97",
      "72b390d7c1074861a3b6319f856da1b9",
      "bb7f16e6ee854ec5adc06f8dbc9d7425",
      "110109b4dbbc48b8a699f264035cede0",
      "1da0c029a91a460388b92d047f538b7b",
      "80ed613781e44cd69d7b4c93abc293e4",
      "9cd9bcf3574d4d298f0542511542b721",
      "c8b0b3d77c3a466fa2e4dc6be43340b0"
     ]
    },
    "colab_type": "code",
    "id": "tdXPT5uJ2Dk9",
    "outputId": "204ad911-45e8-4474-caf1-8a6d7d55cdcf"
   },
   "outputs": [
    {
     "data": {
      "application/vnd.jupyter.widget-view+json": {
       "model_id": "795cf0b091ef46d6865d67f2547ebf97",
       "version_major": 2,
       "version_minor": 0
      },
      "text/plain": [
       "HBox(children=(IntProgress(value=0, max=59503), HTML(value='')))"
      ]
     },
     "metadata": {
      "tags": []
     },
     "output_type": "display_data"
    },
    {
     "name": "stdout",
     "output_type": "stream",
     "text": [
      "\n"
     ]
    },
    {
     "data": {
      "text/plain": [
       "7642"
      ]
     },
     "execution_count": 3,
     "metadata": {
      "tags": []
     },
     "output_type": "execute_result"
    }
   ],
   "source": [
    "vectores = translator(i_train_text, 10)\n",
    "vectores.dim"
   ]
  },
  {
   "cell_type": "code",
   "execution_count": 0,
   "metadata": {
    "colab": {},
    "colab_type": "code",
    "id": "LXUgsMJuNEP1"
   },
   "outputs": [],
   "source": [
    "import torch.nn as nn\n",
    "\n",
    "class Net(nn.Module):\n",
    "    def __init__(self, one_hot_dim, h=35, window=4, emb_d=50):\n",
    "        super(Net, self).__init__()\n",
    "        self.lem = nn.Linear(window*one_hot_dim, window*emb_d)\n",
    "        self.lin = nn.Linear(window*emb_d, h)\n",
    "        self.lout = nn.Linear(h, one_hot_dim)\n",
    "        nn.init.xavier_uniform_(self.lem.weight)\n",
    "        nn.init.xavier_uniform_(self.lin.weight)\n",
    "        nn.init.xavier_uniform_(self.lout.weight)\n",
    "\n",
    "    def forward(self, x):\n",
    "        x = torch.relu(self.lem(x))\n",
    "        x = torch.tanh(self.lin(x))\n",
    "        x = torch.sigmoid(self.lout(x))\n",
    "        return x"
   ]
  },
  {
   "cell_type": "code",
   "execution_count": 0,
   "metadata": {
    "colab": {},
    "colab_type": "code",
    "id": "D-V9VnJv05rk"
   },
   "outputs": [],
   "source": [
    "def shuffle(x, y) :\n",
    "  index = np.arange(y.shape[0])\n",
    "  np.random.shuffle(index)\n",
    "  x = x[index]\n",
    "  y = y[index]\n",
    "  return x,y\n",
    "\n",
    "def data_loader(data, idata, window) :\n",
    "  l = len(data)\n",
    "  x = np.array(list(map(lambda i: data[i:i+window], np.arange(l-window))))\n",
    "  y = np.array(idata[window:])\n",
    "  return x,y"
   ]
  },
  {
   "cell_type": "code",
   "execution_count": 0,
   "metadata": {
    "colab": {},
    "colab_type": "code",
    "id": "aOzNv7hJNEIw"
   },
   "outputs": [],
   "source": [
    "import torch\n",
    "import numpy as np\n",
    "from tqdm.notebook import trange\n",
    "\n",
    "device = torch.device(\"cuda:0\" if torch.cuda.is_available() else \"cpu\")\n",
    "criterion = nn.CrossEntropyLoss()\n",
    "\n",
    "def train_step(net, inputs, labels, optimizer, batch_size, window, emb, d, save_ram) :\n",
    "    X,Y = shuffle(inputs,labels)\n",
    "    losses = list()\n",
    "    for b in range(Y.shape[0]//batch_size+1) :\n",
    "        x,y = X[b*batch_size : (b+1)*batch_size], Y[b*batch_size : (b+1)*batch_size]\n",
    "        if save_ram :\n",
    "            x = torch.cat(list(map(lambda x: emb[x.tolist()].reshape(-1), x))).reshape(-1, window*d)\n",
    "            y = emb.get_item(y)\n",
    "        x,y = x.to(device), y.to(device)\n",
    "        optimizer.zero_grad()\n",
    "        outputs = net(x)\n",
    "        loss = criterion(outputs, y)\n",
    "        loss.backward()\n",
    "        optimizer.step()\n",
    "        loss = float(loss)\n",
    "        losses.append(loss)\n",
    "        del x,y\n",
    "    perplexity = 2**(np.array(losses).mean())\n",
    "    del X,Y,losses\n",
    "    return perplexity\n",
    "\n",
    "def test(net, data, idata, emb, window, d) :\n",
    "  X,Y = data_loader(data,idata,window)\n",
    "  X = torch.cat(list(map(lambda x: emb[x.tolist()].reshape(-1), X))).reshape(-1, window*d)\n",
    "  Y = emb.get_item(Y)\n",
    "  X,Y = X.to(device), Y.to(device)\n",
    "  perplexity = 0\n",
    "  with torch.no_grad():\n",
    "      outputs = net(X)\n",
    "      loss = criterion(outputs, Y)\n",
    "      loss = float(loss)\n",
    "      perplexity = 2**loss\n",
    "  del X,Y\n",
    "  return perplexity\n",
    "\n",
    "def Train(net, data, idata, test_data, test_idata, d, emb, lr=0.02, window=4, epoch=300, batch_size=10000, save_ram=False) :\n",
    "    optimizer = torch.optim.SGD(net.parameters(), lr=lr)\n",
    "    inputs,labels = data_loader(data,idata,window)\n",
    "    if not save_ram :\n",
    "        inputs = torch.cat(list(map(lambda x: emb[x.tolist()].reshape(-1), inputs))).reshape(-1, window*d)\n",
    "        labels = emb.get_item(labels)\n",
    "    turns = trange(epoch, leave=True)\n",
    "    train_perplexities = list()\n",
    "    test_perplexities = list()\n",
    "    for t in turns :\n",
    "        train_perplexities.append(train_step(net=net, inputs=inputs, labels=labels, optimizer=optimizer, batch_size=batch_size, \\\n",
    "                                             window=window, emb=emb, d=d, save_ram=save_ram))\n",
    "        test_perplexities.append(test(net, test_data, test_idata, emb, window, d))\n",
    "        turns.set_description('train: '+str(int(train_perplexities[-1]))+' | '+'test: '+str(int(test_perplexities[-1])))\n",
    "    return train_perplexities,test_perplexities"
   ]
  },
  {
   "cell_type": "code",
   "execution_count": 0,
   "metadata": {
    "colab": {
     "base_uri": "https://localhost:8080/",
     "height": 345,
     "referenced_widgets": [
      "8c14c2d68a2f4c6095e56b2db95743a5",
      "8ff9d43ae4ed4517abb19310c69005d9",
      "b10cbe711d7b4e85b09e9f471e53f7dc",
      "8cd19244463b4a6eb652d8f615dc99b1",
      "76b702a4243a4829ac2c537a6651ff9e",
      "01332148a9cf4cefadb6332a6dc74869",
      "3e1e0a56e5ad4d0db862e4c5f12f37b5",
      "f28a500203e44ecca0b6c82ab377bbfd"
     ]
    },
    "colab_type": "code",
    "id": "Zi0ZF8LX3FnN",
    "outputId": "768ee65d-776b-484c-e18c-db10cca7cb0d"
   },
   "outputs": [
    {
     "data": {
      "application/vnd.jupyter.widget-view+json": {
       "model_id": "8c14c2d68a2f4c6095e56b2db95743a5",
       "version_major": 2,
       "version_minor": 0
      },
      "text/plain": [
       "HBox(children=(IntProgress(value=0, max=120), HTML(value='')))"
      ]
     },
     "metadata": {
      "tags": []
     },
     "output_type": "display_data"
    },
    {
     "name": "stdout",
     "output_type": "stream",
     "text": [
      "\n"
     ]
    },
    {
     "data": {
      "image/png": "[encoded data removed]",
      "text/plain": [
       "<Figure size 432x288 with 1 Axes>"
      ]
     },
     "metadata": {
      "tags": []
     },
     "output_type": "display_data"
    }
   ],
   "source": [
    "import matplotlib.pyplot as plt\n",
    "net = Net(vectores.dim)\n",
    "net.to(device)\n",
    "p_train, p_test = Train(net, i_train_text, i_train_text, i_test_text, i_test_text, \\\n",
    "                        vectores.dim, vectores, epoch=120, lr=0.02, save_ram=True)\n",
    "plt.plot(p_train, label='train')\n",
    "plt.plot(p_test, label='test')\n",
    "plt.ylabel('perplexity')\n",
    "plt.xlabel('epoch')\n",
    "plt.title(\"Without preprocess\")\n",
    "plt.legend()\n",
    "plt.show()"
   ]
  },
  {
   "cell_type": "code",
   "execution_count": 0,
   "metadata": {
    "colab": {},
    "colab_type": "code",
    "id": "iWBnNV4hI2hO"
   },
   "outputs": [],
   "source": [
    "import json\n",
    "json.dump(p_train, open('p_train.json','w'))\n",
    "json.dump(p_test, open('p_test.json','w'))"
   ]
  },
  {
   "cell_type": "code",
   "execution_count": 0,
   "metadata": {
    "colab": {},
    "colab_type": "code",
    "id": "vDLg8NJ3IbXj"
   },
   "outputs": [],
   "source": [
    "from google.colab import files\n",
    "files.download('p_train.json') \n",
    "files.download('p_test.json') "
   ]
  },
  {
   "cell_type": "code",
   "execution_count": 0,
   "metadata": {
    "colab": {},
    "colab_type": "code",
    "id": "sOlPTH44JJ4q"
   },
   "outputs": [],
   "source": []
  }
 ],
 "metadata": {
  "accelerator": "GPU",
  "colab": {
   "collapsed_sections": [],
   "machine_shape": "hm",
   "name": "NLP-CA#3-Part2.ipynb",
   "provenance": []
  },
  "kernelspec": {
   "display_name": "Python 3",
   "language": "python",
   "name": "python3"
  },
  "language_info": {
   "codemirror_mode": {
    "name": "ipython",
    "version": 3
   },
   "file_extension": ".py",
   "mimetype": "text/x-python",
   "name": "python",
   "nbconvert_exporter": "python",
   "pygments_lexer": "ipython3",
   "version": "3.7.5"
  },
  "widgets": {
   "application/vnd.jupyter.widget-state+json": {
    "01332148a9cf4cefadb6332a6dc74869": {
     "model_module": "@jupyter-widgets/base",
     "model_name": "LayoutModel",
     "state": {
      "_model_module": "@jupyter-widgets/base",
      "_model_module_version": "1.2.0",
      "_model_name": "LayoutModel",
      "_view_count": null,
      "_view_module": "@jupyter-widgets/base",
      "_view_module_version": "1.2.0",
      "_view_name": "LayoutView",
      "align_content": null,
      "align_items": null,
      "align_self": null,
      "border": null,
      "bottom": null,
      "display": null,
      "flex": null,
      "flex_flow": null,
      "grid_area": null,
      "grid_auto_columns": null,
      "grid_auto_flow": null,
      "grid_auto_rows": null,
      "grid_column": null,
      "grid_gap": null,
      "grid_row": null,
      "grid_template_areas": null,
      "grid_template_columns": null,
      "grid_template_rows": null,
      "height": null,
      "justify_content": null,
      "justify_items": null,
      "left": null,
      "margin": null,
      "max_height": null,
      "max_width": null,
      "min_height": null,
      "min_width": null,
      "object_fit": null,
      "object_position": null,
      "order": null,
      "overflow": null,
      "overflow_x": null,
      "overflow_y": null,
      "padding": null,
      "right": null,
      "top": null,
      "visibility": null,
      "width": null
     }
    },
    "110109b4dbbc48b8a699f264035cede0": {
     "model_module": "@jupyter-widgets/controls",
     "model_name": "HTMLModel",
     "state": {
      "_dom_classes": [],
      "_model_module": "@jupyter-widgets/controls",
      "_model_module_version": "1.5.0",
      "_model_name": "HTMLModel",
      "_view_count": null,
      "_view_module": "@jupyter-widgets/controls",
      "_view_module_version": "1.5.0",
      "_view_name": "HTMLView",
      "description": "",
      "description_tooltip": null,
      "layout": "IPY_MODEL_c8b0b3d77c3a466fa2e4dc6be43340b0",
      "placeholder": "​",
      "style": "IPY_MODEL_9cd9bcf3574d4d298f0542511542b721",
      "value": " 59503/59503 [01:58&lt;00:00, 501.55it/s]"
     }
    },
    "1da0c029a91a460388b92d047f538b7b": {
     "model_module": "@jupyter-widgets/controls",
     "model_name": "ProgressStyleModel",
     "state": {
      "_model_module": "@jupyter-widgets/controls",
      "_model_module_version": "1.5.0",
      "_model_name": "ProgressStyleModel",
      "_view_count": null,
      "_view_module": "@jupyter-widgets/base",
      "_view_module_version": "1.2.0",
      "_view_name": "StyleView",
      "bar_color": null,
      "description_width": "initial"
     }
    },
    "3e1e0a56e5ad4d0db862e4c5f12f37b5": {
     "model_module": "@jupyter-widgets/controls",
     "model_name": "DescriptionStyleModel",
     "state": {
      "_model_module": "@jupyter-widgets/controls",
      "_model_module_version": "1.5.0",
      "_model_name": "DescriptionStyleModel",
      "_view_count": null,
      "_view_module": "@jupyter-widgets/base",
      "_view_module_version": "1.2.0",
      "_view_name": "StyleView",
      "description_width": ""
     }
    },
    "72b390d7c1074861a3b6319f856da1b9": {
     "model_module": "@jupyter-widgets/base",
     "model_name": "LayoutModel",
     "state": {
      "_model_module": "@jupyter-widgets/base",
      "_model_module_version": "1.2.0",
      "_model_name": "LayoutModel",
      "_view_count": null,
      "_view_module": "@jupyter-widgets/base",
      "_view_module_version": "1.2.0",
      "_view_name": "LayoutView",
      "align_content": null,
      "align_items": null,
      "align_self": null,
      "border": null,
      "bottom": null,
      "display": null,
      "flex": null,
      "flex_flow": null,
      "grid_area": null,
      "grid_auto_columns": null,
      "grid_auto_flow": null,
      "grid_auto_rows": null,
      "grid_column": null,
      "grid_gap": null,
      "grid_row": null,
      "grid_template_areas": null,
      "grid_template_columns": null,
      "grid_template_rows": null,
      "height": null,
      "justify_content": null,
      "justify_items": null,
      "left": null,
      "margin": null,
      "max_height": null,
      "max_width": null,
      "min_height": null,
      "min_width": null,
      "object_fit": null,
      "object_position": null,
      "order": null,
      "overflow": null,
      "overflow_x": null,
      "overflow_y": null,
      "padding": null,
      "right": null,
      "top": null,
      "visibility": null,
      "width": null
     }
    },
    "76b702a4243a4829ac2c537a6651ff9e": {
     "model_module": "@jupyter-widgets/controls",
     "model_name": "ProgressStyleModel",
     "state": {
      "_model_module": "@jupyter-widgets/controls",
      "_model_module_version": "1.5.0",
      "_model_name": "ProgressStyleModel",
      "_view_count": null,
      "_view_module": "@jupyter-widgets/base",
      "_view_module_version": "1.2.0",
      "_view_name": "StyleView",
      "bar_color": null,
      "description_width": "initial"
     }
    },
    "795cf0b091ef46d6865d67f2547ebf97": {
     "model_module": "@jupyter-widgets/controls",
     "model_name": "HBoxModel",
     "state": {
      "_dom_classes": [],
      "_model_module": "@jupyter-widgets/controls",
      "_model_module_version": "1.5.0",
      "_model_name": "HBoxModel",
      "_view_count": null,
      "_view_module": "@jupyter-widgets/controls",
      "_view_module_version": "1.5.0",
      "_view_name": "HBoxView",
      "box_style": "",
      "children": [
       "IPY_MODEL_bb7f16e6ee854ec5adc06f8dbc9d7425",
       "IPY_MODEL_110109b4dbbc48b8a699f264035cede0"
      ],
      "layout": "IPY_MODEL_72b390d7c1074861a3b6319f856da1b9"
     }
    },
    "80ed613781e44cd69d7b4c93abc293e4": {
     "model_module": "@jupyter-widgets/base",
     "model_name": "LayoutModel",
     "state": {
      "_model_module": "@jupyter-widgets/base",
      "_model_module_version": "1.2.0",
      "_model_name": "LayoutModel",
      "_view_count": null,
      "_view_module": "@jupyter-widgets/base",
      "_view_module_version": "1.2.0",
      "_view_name": "LayoutView",
      "align_content": null,
      "align_items": null,
      "align_self": null,
      "border": null,
      "bottom": null,
      "display": null,
      "flex": null,
      "flex_flow": null,
      "grid_area": null,
      "grid_auto_columns": null,
      "grid_auto_flow": null,
      "grid_auto_rows": null,
      "grid_column": null,
      "grid_gap": null,
      "grid_row": null,
      "grid_template_areas": null,
      "grid_template_columns": null,
      "grid_template_rows": null,
      "height": null,
      "justify_content": null,
      "justify_items": null,
      "left": null,
      "margin": null,
      "max_height": null,
      "max_width": null,
      "min_height": null,
      "min_width": null,
      "object_fit": null,
      "object_position": null,
      "order": null,
      "overflow": null,
      "overflow_x": null,
      "overflow_y": null,
      "padding": null,
      "right": null,
      "top": null,
      "visibility": null,
      "width": null
     }
    },
    "8c14c2d68a2f4c6095e56b2db95743a5": {
     "model_module": "@jupyter-widgets/controls",
     "model_name": "HBoxModel",
     "state": {
      "_dom_classes": [],
      "_model_module": "@jupyter-widgets/controls",
      "_model_module_version": "1.5.0",
      "_model_name": "HBoxModel",
      "_view_count": null,
      "_view_module": "@jupyter-widgets/controls",
      "_view_module_version": "1.5.0",
      "_view_name": "HBoxView",
      "box_style": "",
      "children": [
       "IPY_MODEL_b10cbe711d7b4e85b09e9f471e53f7dc",
       "IPY_MODEL_8cd19244463b4a6eb652d8f615dc99b1"
      ],
      "layout": "IPY_MODEL_8ff9d43ae4ed4517abb19310c69005d9"
     }
    },
    "8cd19244463b4a6eb652d8f615dc99b1": {
     "model_module": "@jupyter-widgets/controls",
     "model_name": "HTMLModel",
     "state": {
      "_dom_classes": [],
      "_model_module": "@jupyter-widgets/controls",
      "_model_module_version": "1.5.0",
      "_model_name": "HTMLModel",
      "_view_count": null,
      "_view_module": "@jupyter-widgets/controls",
      "_view_module_version": "1.5.0",
      "_view_name": "HTMLView",
      "description": "",
      "description_tooltip": null,
      "layout": "IPY_MODEL_f28a500203e44ecca0b6c82ab377bbfd",
      "placeholder": "​",
      "style": "IPY_MODEL_3e1e0a56e5ad4d0db862e4c5f12f37b5",
      "value": " 120/120 [7:12:34&lt;00:00, 216.29s/it]"
     }
    },
    "8ff9d43ae4ed4517abb19310c69005d9": {
     "model_module": "@jupyter-widgets/base",
     "model_name": "LayoutModel",
     "state": {
      "_model_module": "@jupyter-widgets/base",
      "_model_module_version": "1.2.0",
      "_model_name": "LayoutModel",
      "_view_count": null,
      "_view_module": "@jupyter-widgets/base",
      "_view_module_version": "1.2.0",
      "_view_name": "LayoutView",
      "align_content": null,
      "align_items": null,
      "align_self": null,
      "border": null,
      "bottom": null,
      "display": null,
      "flex": null,
      "flex_flow": null,
      "grid_area": null,
      "grid_auto_columns": null,
      "grid_auto_flow": null,
      "grid_auto_rows": null,
      "grid_column": null,
      "grid_gap": null,
      "grid_row": null,
      "grid_template_areas": null,
      "grid_template_columns": null,
      "grid_template_rows": null,
      "height": null,
      "justify_content": null,
      "justify_items": null,
      "left": null,
      "margin": null,
      "max_height": null,
      "max_width": null,
      "min_height": null,
      "min_width": null,
      "object_fit": null,
      "object_position": null,
      "order": null,
      "overflow": null,
      "overflow_x": null,
      "overflow_y": null,
      "padding": null,
      "right": null,
      "top": null,
      "visibility": null,
      "width": null
     }
    },
    "9cd9bcf3574d4d298f0542511542b721": {
     "model_module": "@jupyter-widgets/controls",
     "model_name": "DescriptionStyleModel",
     "state": {
      "_model_module": "@jupyter-widgets/controls",
      "_model_module_version": "1.5.0",
      "_model_name": "DescriptionStyleModel",
      "_view_count": null,
      "_view_module": "@jupyter-widgets/base",
      "_view_module_version": "1.2.0",
      "_view_name": "StyleView",
      "description_width": ""
     }
    },
    "b10cbe711d7b4e85b09e9f471e53f7dc": {
     "model_module": "@jupyter-widgets/controls",
     "model_name": "IntProgressModel",
     "state": {
      "_dom_classes": [],
      "_model_module": "@jupyter-widgets/controls",
      "_model_module_version": "1.5.0",
      "_model_name": "IntProgressModel",
      "_view_count": null,
      "_view_module": "@jupyter-widgets/controls",
      "_view_module_version": "1.5.0",
      "_view_name": "ProgressView",
      "bar_style": "success",
      "description": "train: 397 | test: 397: 100%",
      "description_tooltip": null,
      "layout": "IPY_MODEL_01332148a9cf4cefadb6332a6dc74869",
      "max": 120,
      "min": 0,
      "orientation": "horizontal",
      "style": "IPY_MODEL_76b702a4243a4829ac2c537a6651ff9e",
      "value": 120
     }
    },
    "bb7f16e6ee854ec5adc06f8dbc9d7425": {
     "model_module": "@jupyter-widgets/controls",
     "model_name": "IntProgressModel",
     "state": {
      "_dom_classes": [],
      "_model_module": "@jupyter-widgets/controls",
      "_model_module_version": "1.5.0",
      "_model_name": "IntProgressModel",
      "_view_count": null,
      "_view_module": "@jupyter-widgets/controls",
      "_view_module_version": "1.5.0",
      "_view_name": "ProgressView",
      "bar_style": "success",
      "description": "100%",
      "description_tooltip": null,
      "layout": "IPY_MODEL_80ed613781e44cd69d7b4c93abc293e4",
      "max": 59503,
      "min": 0,
      "orientation": "horizontal",
      "style": "IPY_MODEL_1da0c029a91a460388b92d047f538b7b",
      "value": 59503
     }
    },
    "c8b0b3d77c3a466fa2e4dc6be43340b0": {
     "model_module": "@jupyter-widgets/base",
     "model_name": "LayoutModel",
     "state": {
      "_model_module": "@jupyter-widgets/base",
      "_model_module_version": "1.2.0",
      "_model_name": "LayoutModel",
      "_view_count": null,
      "_view_module": "@jupyter-widgets/base",
      "_view_module_version": "1.2.0",
      "_view_name": "LayoutView",
      "align_content": null,
      "align_items": null,
      "align_self": null,
      "border": null,
      "bottom": null,
      "display": null,
      "flex": null,
      "flex_flow": null,
      "grid_area": null,
      "grid_auto_columns": null,
      "grid_auto_flow": null,
      "grid_auto_rows": null,
      "grid_column": null,
      "grid_gap": null,
      "grid_row": null,
      "grid_template_areas": null,
      "grid_template_columns": null,
      "grid_template_rows": null,
      "height": null,
      "justify_content": null,
      "justify_items": null,
      "left": null,
      "margin": null,
      "max_height": null,
      "max_width": null,
      "min_height": null,
      "min_width": null,
      "object_fit": null,
      "object_position": null,
      "order": null,
      "overflow": null,
      "overflow_x": null,
      "overflow_y": null,
      "padding": null,
      "right": null,
      "top": null,
      "visibility": null,
      "width": null
     }
    },
    "f28a500203e44ecca0b6c82ab377bbfd": {
     "model_module": "@jupyter-widgets/base",
     "model_name": "LayoutModel",
     "state": {
      "_model_module": "@jupyter-widgets/base",
      "_model_module_version": "1.2.0",
      "_model_name": "LayoutModel",
      "_view_count": null,
      "_view_module": "@jupyter-widgets/base",
      "_view_module_version": "1.2.0",
      "_view_name": "LayoutView",
      "align_content": null,
      "align_items": null,
      "align_self": null,
      "border": null,
      "bottom": null,
      "display": null,
      "flex": null,
      "flex_flow": null,
      "grid_area": null,
      "grid_auto_columns": null,
      "grid_auto_flow": null,
      "grid_auto_rows": null,
      "grid_column": null,
      "grid_gap": null,
      "grid_row": null,
      "grid_template_areas": null,
      "grid_template_columns": null,
      "grid_template_rows": null,
      "height": null,
      "justify_content": null,
      "justify_items": null,
      "left": null,
      "margin": null,
      "max_height": null,
      "max_width": null,
      "min_height": null,
      "min_width": null,
      "object_fit": null,
      "object_position": null,
      "order": null,
      "overflow": null,
      "overflow_x": null,
      "overflow_y": null,
      "padding": null,
      "right": null,
      "top": null,
      "visibility": null,
      "width": null
     }
    }
   }
  }
 },
 "nbformat": 4,
 "nbformat_minor": 1
}
