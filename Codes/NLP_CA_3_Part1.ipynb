{
 "cells": [
  {
   "cell_type": "code",
   "execution_count": 0,
   "metadata": {
    "colab": {
     "base_uri": "https://localhost:8080/",
     "height": 71
    },
    "colab_type": "code",
    "id": "-vQzPI0PNERc",
    "outputId": "31888e7c-4f9c-4e6f-ebf3-6f6aa32f34d3"
   },
   "outputs": [
    {
     "name": "stdout",
     "output_type": "stream",
     "text": [
      "Requirement already satisfied: pytorch-nlp in /usr/local/lib/python3.6/dist-packages (0.5.0)\n",
      "Requirement already satisfied: tqdm in /usr/local/lib/python3.6/dist-packages (from pytorch-nlp) (4.38.0)\n",
      "Requirement already satisfied: numpy in /usr/local/lib/python3.6/dist-packages (from pytorch-nlp) (1.18.2)\n"
     ]
    }
   ],
   "source": [
    "!pip3 install pytorch-nlp\n",
    "from torchnlp.word_to_vector import GloVe\n",
    "g_vec = GloVe(name='6B', dim='50')"
   ]
  },
  {
   "cell_type": "code",
   "execution_count": 0,
   "metadata": {
    "colab": {},
    "colab_type": "code",
    "id": "W1RWSYfs2QxI"
   },
   "outputs": [],
   "source": [
    "import numpy as np\n",
    "import json\n",
    "\n",
    "train_text = json.load(open('clean_train.json'))\n",
    "test_text = json.load(open('clean_test.json'))\n",
    "\n",
    "vocab = np.unique(train_text+test_text)"
   ]
  },
  {
   "cell_type": "code",
   "execution_count": 0,
   "metadata": {
    "colab": {},
    "colab_type": "code",
    "id": "4rUlnxdY9Thr"
   },
   "outputs": [],
   "source": [
    "import json\n",
    "\n",
    "i_train_text = json.load(open('i_train.json'))\n",
    "i_test_text = json.load(open('i_test.json'))"
   ]
  },
  {
   "cell_type": "code",
   "execution_count": 0,
   "metadata": {
    "colab": {},
    "colab_type": "code",
    "id": "tdXPT5uJ2Dk9"
   },
   "outputs": [],
   "source": [
    "v = vocab.shape[0]\n",
    "d = g_vec['the'].shape[0]\n",
    "\n",
    "del vocab"
   ]
  },
  {
   "cell_type": "code",
   "execution_count": 0,
   "metadata": {
    "colab": {},
    "colab_type": "code",
    "id": "LXUgsMJuNEP1"
   },
   "outputs": [],
   "source": [
    "import torch.nn as nn\n",
    "\n",
    "class Net(nn.Module):\n",
    "    def __init__(self, h=35, window=4, emb_d=50):\n",
    "        super(Net, self).__init__()\n",
    "        self.lin = nn.Linear(window*emb_d, h)\n",
    "        self.lout = nn.Linear(h, v)\n",
    "        nn.init.xavier_uniform_(self.lin.weight)\n",
    "        nn.init.xavier_uniform_(self.lout.weight)\n",
    "\n",
    "    def forward(self, x):\n",
    "        x = torch.tanh(self.lin(x))\n",
    "        x = torch.sigmoid(self.lout(x))\n",
    "        return x"
   ]
  },
  {
   "cell_type": "code",
   "execution_count": 0,
   "metadata": {
    "colab": {},
    "colab_type": "code",
    "id": "D-V9VnJv05rk"
   },
   "outputs": [],
   "source": [
    "def shuffle(x, y) :\n",
    "  index = np.arange(y.shape[0])\n",
    "  np.random.shuffle(index)\n",
    "  x = x[index]\n",
    "  y = y[index]\n",
    "  return x,y\n",
    "\n",
    "def data_loader(data, idata, window) :\n",
    "  l = len(data)\n",
    "  x = np.array(list(map(lambda i: data[i:i+window], np.arange(l-window))))\n",
    "  y = np.array(idata[window:])\n",
    "  return x,y"
   ]
  },
  {
   "cell_type": "code",
   "execution_count": 0,
   "metadata": {
    "colab": {},
    "colab_type": "code",
    "id": "aOzNv7hJNEIw"
   },
   "outputs": [],
   "source": [
    "import torch\n",
    "import numpy as np\n",
    "from tqdm.notebook import trange\n",
    "\n",
    "device = torch.device(\"cuda:0\" if torch.cuda.is_available() else \"cpu\")\n",
    "criterion = nn.CrossEntropyLoss()\n",
    "\n",
    "def train_step(net, inputs, labels, optimizer, batch_size) :\n",
    "    X,Y = shuffle(inputs,labels)\n",
    "    losses = list()\n",
    "    for b in range(Y.shape[0]//batch_size+1) :\n",
    "        x,y = X[b*batch_size : (b+1)*batch_size], Y[b*batch_size : (b+1)*batch_size]\n",
    "        x,y = x.to(device), y.to(device)\n",
    "        optimizer.zero_grad()\n",
    "        outputs = net(x)\n",
    "        loss = criterion(outputs, y)\n",
    "        loss.backward()\n",
    "        optimizer.step()\n",
    "        loss = float(loss)\n",
    "        losses.append(loss)\n",
    "        del x,y\n",
    "    perplexity = 2**(np.array(losses).mean())\n",
    "    del X,Y,losses\n",
    "    return perplexity\n",
    "\n",
    "def test(net, data, idata, emb, window, d) :\n",
    "  X,Y = data_loader(data,idata,window)\n",
    "  X = torch.cat(list(map(lambda x: emb[x.tolist()].reshape(-1), X))).reshape(-1, window*d)\n",
    "  Y = torch.from_numpy(Y)\n",
    "  X,Y = X.to(device), Y.to(device)\n",
    "  perplexity = 0\n",
    "  with torch.no_grad():\n",
    "      outputs = net(X)\n",
    "      loss = criterion(outputs, Y)\n",
    "      loss = float(loss)\n",
    "      perplexity = 2**loss\n",
    "  del X,Y\n",
    "  return perplexity\n",
    "\n",
    "def Train(net, data, idata, test_data, test_idata, emb, lr=0.02, window=4, epoch=300, batch_size=10000) :\n",
    "    optimizer = torch.optim.SGD(net.parameters(), lr=lr)\n",
    "    inputs,labels = data_loader(data,idata,window)\n",
    "    inputs = torch.cat(list(map(lambda x: emb[x.tolist()].reshape(-1), inputs))).reshape(-1, window*d)\n",
    "    labels = torch.from_numpy(labels)\n",
    "    turns = trange(epoch, leave=True)\n",
    "    train_perplexities = list()\n",
    "    test_perplexities = list()\n",
    "    for t in turns :\n",
    "        train_perplexities.append(train_step(net=net, inputs=inputs, labels=labels, optimizer=optimizer, batch_size=batch_size))\n",
    "        test_perplexities.append(test(net, test_data, test_idata, emb, window, d))\n",
    "        turns.set_description('train: '+str(int(train_perplexities[-1]))+' | '+'test: '+str(int(test_perplexities[-1])))\n",
    "    return train_perplexities,test_perplexities"
   ]
  },
  {
   "cell_type": "code",
   "execution_count": 0,
   "metadata": {
    "colab": {},
    "colab_type": "code",
    "id": "NYEGI1G_-Slb"
   },
   "outputs": [],
   "source": [
    "import matplotlib.pyplot as plt\n",
    "import json\n",
    "\n",
    "def test_network(hidden_layer, window, learning_rate, epoch, title) :\n",
    "    net = Net(h=hidden_layer, window=window)\n",
    "    net.to(device)\n",
    "    p_train, p_test = Train(net, train_text, i_train_text, test_text, i_test_text , g_vec, epoch=epoch, lr=learning_rate, window=window)\n",
    "    json.dump(train_text, open(title+'p_train.json','w'))\n",
    "    json.dump(test_text, open(title+'p_test.json','w'))\n",
    "    plt.plot(p_train, label='train')\n",
    "    plt.plot(p_test, label='test')\n",
    "    plt.ylabel('perplexity')\n",
    "    plt.xlabel('epoch')\n",
    "    plt.title(title)\n",
    "    plt.legend()\n",
    "    plt.show()\n",
    "    del net"
   ]
  },
  {
   "cell_type": "code",
   "execution_count": 9,
   "metadata": {
    "colab": {
     "base_uri": "https://localhost:8080/",
     "height": 345,
     "referenced_widgets": [
      "3f27337d693d4d9ab71b91a669e919d1",
      "d081fb7cc0154625bee86941bb79204a",
      "73500bbb7ce84ec1a8552e78d2073935",
      "f448e06ffab44eb986764f8a51a6096d",
      "e7252c2d57b74530ad4fe39195c52615",
      "0bec4de5ec4149c9b054b67cb3c593ec",
      "3815de5b41864b3cb1d23bc6f6aefc9d",
      "bebc35ed572746cc8253f3a6fb8004b0"
     ]
    },
    "colab_type": "code",
    "id": "TesNX1rTncyG",
    "outputId": "9f8ae581-fb3b-44aa-dc3b-e7058c56a4a9"
   },
   "outputs": [
    {
     "data": {
      "application/vnd.jupyter.widget-view+json": {
       "model_id": "3f27337d693d4d9ab71b91a669e919d1",
       "version_major": 2,
       "version_minor": 0
      },
      "text/plain": [
       "HBox(children=(IntProgress(value=0, max=300), HTML(value='')))"
      ]
     },
     "metadata": {
      "tags": []
     },
     "output_type": "display_data"
    },
    {
     "name": "stdout",
     "output_type": "stream",
     "text": [
      "\n"
     ]
    },
    {
     "data": {
      "image/png": "[encoded data removed]",
      "text/plain": [
       "<Figure size 432x288 with 1 Axes>"
      ]
     },
     "metadata": {
      "tags": []
     },
     "output_type": "display_data"
    }
   ],
   "source": [
    "test_network(hidden_layer=35, window=4, learning_rate=0.02, epoch=300, title='h35-w4-lr0.02')\n",
    "# test_network(hidden_layer=35, window=2, learning_rate=0.02, epoch=300, title='h35-w2-lr0.02')\n",
    "# test_network(hidden_layer=35, window=3, learning_rate=0.02, epoch=300, title='h35-w3-lr0.02')\n",
    "# test_network(hidden_layer=35, window=4, learning_rate=0.1, epoch=300, title='h35-w4-lr0.1')\n",
    "# test_network(hidden_layer=35, window=4, learning_rate=0.03, epoch=300, title='h35-w4-lr0.03')\n",
    "# test_network(hidden_layer=35, window=4, learning_rate=0.01, epoch=300, title='h35-w4-lr0.01')\n",
    "# test_network(hidden_layer=50, window=4, learning_rate=0.02, epoch=300, title='h50-w4-lr0.02')\n",
    "# test_network(hidden_layer=100, window=4, learning_rate=0.02, epoch=300, title='h100-w4-lr0.02')\n",
    "# test_network(hidden_layer=150, window=4, learning_rate=0.02, epoch=300, title='h150-w4-lr0.02')"
   ]
  }
 ],
 "metadata": {
  "accelerator": "GPU",
  "colab": {
   "collapsed_sections": [],
   "machine_shape": "hm",
   "name": "NLP-CA#3-Part1.ipynb",
   "provenance": []
  },
  "kernelspec": {
   "display_name": "Python 3",
   "language": "python",
   "name": "python3"
  },
  "language_info": {
   "codemirror_mode": {
    "name": "ipython",
    "version": 3
   },
   "file_extension": ".py",
   "mimetype": "text/x-python",
   "name": "python",
   "nbconvert_exporter": "python",
   "pygments_lexer": "ipython3",
   "version": "3.7.5"
  },
  "widgets": {
   "application/vnd.jupyter.widget-state+json": {
    "0bec4de5ec4149c9b054b67cb3c593ec": {
     "model_module": "@jupyter-widgets/base",
     "model_name": "LayoutModel",
     "state": {
      "_model_module": "@jupyter-widgets/base",
      "_model_module_version": "1.2.0",
      "_model_name": "LayoutModel",
      "_view_count": null,
      "_view_module": "@jupyter-widgets/base",
      "_view_module_version": "1.2.0",
      "_view_name": "LayoutView",
      "align_content": null,
      "align_items": null,
      "align_self": null,
      "border": null,
      "bottom": null,
      "display": null,
      "flex": null,
      "flex_flow": null,
      "grid_area": null,
      "grid_auto_columns": null,
      "grid_auto_flow": null,
      "grid_auto_rows": null,
      "grid_column": null,
      "grid_gap": null,
      "grid_row": null,
      "grid_template_areas": null,
      "grid_template_columns": null,
      "grid_template_rows": null,
      "height": null,
      "justify_content": null,
      "justify_items": null,
      "left": null,
      "margin": null,
      "max_height": null,
      "max_width": null,
      "min_height": null,
      "min_width": null,
      "object_fit": null,
      "object_position": null,
      "order": null,
      "overflow": null,
      "overflow_x": null,
      "overflow_y": null,
      "padding": null,
      "right": null,
      "top": null,
      "visibility": null,
      "width": null
     }
    },
    "3815de5b41864b3cb1d23bc6f6aefc9d": {
     "model_module": "@jupyter-widgets/controls",
     "model_name": "DescriptionStyleModel",
     "state": {
      "_model_module": "@jupyter-widgets/controls",
      "_model_module_version": "1.5.0",
      "_model_name": "DescriptionStyleModel",
      "_view_count": null,
      "_view_module": "@jupyter-widgets/base",
      "_view_module_version": "1.2.0",
      "_view_name": "StyleView",
      "description_width": ""
     }
    },
    "3f27337d693d4d9ab71b91a669e919d1": {
     "model_module": "@jupyter-widgets/controls",
     "model_name": "HBoxModel",
     "state": {
      "_dom_classes": [],
      "_model_module": "@jupyter-widgets/controls",
      "_model_module_version": "1.5.0",
      "_model_name": "HBoxModel",
      "_view_count": null,
      "_view_module": "@jupyter-widgets/controls",
      "_view_module_version": "1.5.0",
      "_view_name": "HBoxView",
      "box_style": "",
      "children": [
       "IPY_MODEL_73500bbb7ce84ec1a8552e78d2073935",
       "IPY_MODEL_f448e06ffab44eb986764f8a51a6096d"
      ],
      "layout": "IPY_MODEL_d081fb7cc0154625bee86941bb79204a"
     }
    },
    "73500bbb7ce84ec1a8552e78d2073935": {
     "model_module": "@jupyter-widgets/controls",
     "model_name": "IntProgressModel",
     "state": {
      "_dom_classes": [],
      "_model_module": "@jupyter-widgets/controls",
      "_model_module_version": "1.5.0",
      "_model_name": "IntProgressModel",
      "_view_count": null,
      "_view_module": "@jupyter-widgets/controls",
      "_view_module_version": "1.5.0",
      "_view_name": "ProgressView",
      "bar_style": "success",
      "description": "train: 1639 | test: 1660: 100%",
      "description_tooltip": null,
      "layout": "IPY_MODEL_0bec4de5ec4149c9b054b67cb3c593ec",
      "max": 300,
      "min": 0,
      "orientation": "horizontal",
      "style": "IPY_MODEL_e7252c2d57b74530ad4fe39195c52615",
      "value": 300
     }
    },
    "bebc35ed572746cc8253f3a6fb8004b0": {
     "model_module": "@jupyter-widgets/base",
     "model_name": "LayoutModel",
     "state": {
      "_model_module": "@jupyter-widgets/base",
      "_model_module_version": "1.2.0",
      "_model_name": "LayoutModel",
      "_view_count": null,
      "_view_module": "@jupyter-widgets/base",
      "_view_module_version": "1.2.0",
      "_view_name": "LayoutView",
      "align_content": null,
      "align_items": null,
      "align_self": null,
      "border": null,
      "bottom": null,
      "display": null,
      "flex": null,
      "flex_flow": null,
      "grid_area": null,
      "grid_auto_columns": null,
      "grid_auto_flow": null,
      "grid_auto_rows": null,
      "grid_column": null,
      "grid_gap": null,
      "grid_row": null,
      "grid_template_areas": null,
      "grid_template_columns": null,
      "grid_template_rows": null,
      "height": null,
      "justify_content": null,
      "justify_items": null,
      "left": null,
      "margin": null,
      "max_height": null,
      "max_width": null,
      "min_height": null,
      "min_width": null,
      "object_fit": null,
      "object_position": null,
      "order": null,
      "overflow": null,
      "overflow_x": null,
      "overflow_y": null,
      "padding": null,
      "right": null,
      "top": null,
      "visibility": null,
      "width": null
     }
    },
    "d081fb7cc0154625bee86941bb79204a": {
     "model_module": "@jupyter-widgets/base",
     "model_name": "LayoutModel",
     "state": {
      "_model_module": "@jupyter-widgets/base",
      "_model_module_version": "1.2.0",
      "_model_name": "LayoutModel",
      "_view_count": null,
      "_view_module": "@jupyter-widgets/base",
      "_view_module_version": "1.2.0",
      "_view_name": "LayoutView",
      "align_content": null,
      "align_items": null,
      "align_self": null,
      "border": null,
      "bottom": null,
      "display": null,
      "flex": null,
      "flex_flow": null,
      "grid_area": null,
      "grid_auto_columns": null,
      "grid_auto_flow": null,
      "grid_auto_rows": null,
      "grid_column": null,
      "grid_gap": null,
      "grid_row": null,
      "grid_template_areas": null,
      "grid_template_columns": null,
      "grid_template_rows": null,
      "height": null,
      "justify_content": null,
      "justify_items": null,
      "left": null,
      "margin": null,
      "max_height": null,
      "max_width": null,
      "min_height": null,
      "min_width": null,
      "object_fit": null,
      "object_position": null,
      "order": null,
      "overflow": null,
      "overflow_x": null,
      "overflow_y": null,
      "padding": null,
      "right": null,
      "top": null,
      "visibility": null,
      "width": null
     }
    },
    "e7252c2d57b74530ad4fe39195c52615": {
     "model_module": "@jupyter-widgets/controls",
     "model_name": "ProgressStyleModel",
     "state": {
      "_model_module": "@jupyter-widgets/controls",
      "_model_module_version": "1.5.0",
      "_model_name": "ProgressStyleModel",
      "_view_count": null,
      "_view_module": "@jupyter-widgets/base",
      "_view_module_version": "1.2.0",
      "_view_name": "StyleView",
      "bar_color": null,
      "description_width": "initial"
     }
    },
    "f448e06ffab44eb986764f8a51a6096d": {
     "model_module": "@jupyter-widgets/controls",
     "model_name": "HTMLModel",
     "state": {
      "_dom_classes": [],
      "_model_module": "@jupyter-widgets/controls",
      "_model_module_version": "1.5.0",
      "_model_name": "HTMLModel",
      "_view_count": null,
      "_view_module": "@jupyter-widgets/controls",
      "_view_module_version": "1.5.0",
      "_view_name": "HTMLView",
      "description": "",
      "description_tooltip": null,
      "layout": "IPY_MODEL_bebc35ed572746cc8253f3a6fb8004b0",
      "placeholder": "​",
      "style": "IPY_MODEL_3815de5b41864b3cb1d23bc6f6aefc9d",
      "value": " 300/300 [1:04:21&lt;00:00, 12.87s/it]"
     }
    }
   }
  }
 },
 "nbformat": 4,
 "nbformat_minor": 1
}
